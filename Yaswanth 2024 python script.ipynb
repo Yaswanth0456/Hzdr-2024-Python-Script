{
 "cells": [
  {
   "cell_type": "code",
   "execution_count": 1,
   "id": "bb1bef40-ca16-4aba-88d5-9298d4f3afd0",
   "metadata": {},
   "outputs": [
    {
     "name": "stdout",
     "output_type": "stream",
     "text": [
      "Collecting ET\n",
      "  Obtaining dependency information for ET from https://files.pythonhosted.org/packages/7e/52/3350143771b8c99d86a6014202ff7b92b3b78e79c23699ec730f53703bbf/et-0.0.2-py2.py3-none-any.whl.metadata\n",
      "  Downloading et-0.0.2-py2.py3-none-any.whl.metadata (1.8 kB)\n",
      "Downloading et-0.0.2-py2.py3-none-any.whl (5.2 kB)\n",
      "Installing collected packages: ET\n",
      "Successfully installed ET-0.0.2\n",
      "Note: you may need to restart the kernel to use updated packages.\n"
     ]
    }
   ],
   "source": [
    "pip install ET"
   ]
  },
  {
   "cell_type": "code",
   "execution_count": 2,
   "id": "99481c2e-77ff-4390-a99f-348a220260ca",
   "metadata": {},
   "outputs": [
    {
     "name": "stdout",
     "output_type": "stream",
     "text": [
      "Requirement already satisfied: requests in c:\\users\\yaswa\\anaconda3\\lib\\site-packages (2.31.0)\n",
      "Requirement already satisfied: charset-normalizer<4,>=2 in c:\\users\\yaswa\\anaconda3\\lib\\site-packages (from requests) (2.0.4)\n",
      "Requirement already satisfied: idna<4,>=2.5 in c:\\users\\yaswa\\anaconda3\\lib\\site-packages (from requests) (3.4)\n",
      "Requirement already satisfied: urllib3<3,>=1.21.1 in c:\\users\\yaswa\\anaconda3\\lib\\site-packages (from requests) (1.26.16)\n",
      "Requirement already satisfied: certifi>=2017.4.17 in c:\\users\\yaswa\\anaconda3\\lib\\site-packages (from requests) (2023.7.22)\n",
      "Note: you may need to restart the kernel to use updated packages.\n"
     ]
    }
   ],
   "source": [
    "pip install requests"
   ]
  },
  {
   "cell_type": "code",
   "execution_count": 3,
   "id": "d56d85a1-a04a-4eb2-b65f-f83f0aeb5d40",
   "metadata": {},
   "outputs": [],
   "source": [
    "import requests\n",
    "import pandas as pd\n",
    "import xml.etree.ElementTree as ET"
   ]
  },
  {
   "cell_type": "code",
   "execution_count": 4,
   "id": "2905381e-89ae-43b3-bfbb-24743b5908a0",
   "metadata": {},
   "outputs": [],
   "source": [
    "api_link = \"https://www.hzdr.de/publications/OAI-PMH?verb=ListRecords&from=2024-01-01&set=HZDR:SW\""
   ]
  },
  {
   "cell_type": "code",
   "execution_count": 5,
   "id": "3583cd5c-4b0a-444d-a701-d52e24f63a13",
   "metadata": {},
   "outputs": [],
   "source": [
    "response = requests.get(api_link)\n",
    "\n",
    "if response.status_code == 200:\n",
    "    xml_file2024 = response.content  \n",
    "else:\n",
    "    raise Exception(f\"Failed to fetch data {response.status_code}\")\n",
    "\n",
    "root = ET.fromstring(xml_file2024) "
   ]
  },
  {
   "cell_type": "code",
   "execution_count": 6,
   "id": "cea674ae-f78d-4f54-8fa0-305a89d70ab9",
   "metadata": {},
   "outputs": [],
   "source": [
    "# Define namespaces \n",
    "links = {\n",
    "    \"oai\": \"http://www.openarchives.org/OAI/2.0/\",\n",
    "    \"dc\": \"http://purl.org/dc/elements/1.1/\"\n",
    "}"
   ]
  },
  {
   "cell_type": "code",
   "execution_count": 7,
   "id": "7934a4e6-86c1-40e1-9a67-40c8627d9432",
   "metadata": {},
   "outputs": [],
   "source": [
    "# Extract records\n",
    "records = []\n",
    "for record in root.findall(\".//oai:record\", links):\n",
    "    title = record.find(\".//dc:title\", links).text if record.find(\".//dc:title\", links) is not None else None\n",
    "    creators = [creator.text for creator in record.findall(\".//dc:creator\", links)]\n",
    "    identifier = record.find(\".//dc:identifier\", links).text if record.find(\".//dc:identifier\", links) is not None else None\n",
    "    datestamp = record.find(\".//oai:datestamp\", links).text if record.find(\".//oai:datestamp\", links) is not None else None\n",
    "\n",
    "    # Add to records list\n",
    "    if title and identifier and datestamp:\n",
    "        records.append({\n",
    "            \"title\": title,\n",
    "            \"creators\": creators,\n",
    "            \"identifier\": identifier,\n",
    "            \"datestamp\": datestamp\n",
    "        })"
   ]
  },
  {
   "cell_type": "code",
   "execution_count": 8,
   "id": "882d52fa-ab63-41d2-9d00-e2ce5c6202c9",
   "metadata": {},
   "outputs": [],
   "source": [
    "df = pd.DataFrame(records)"
   ]
  },
  {
   "cell_type": "code",
   "execution_count": 9,
   "id": "0c2dcdf4-cc53-4332-be10-cdafacfece0b",
   "metadata": {},
   "outputs": [
    {
     "name": "stdout",
     "output_type": "stream",
     "text": [
      "DataFrame numbers:\n",
      "Index(['title', 'creators', 'identifier', 'datestamp'], dtype='object')\n"
     ]
    }
   ],
   "source": [
    "print(\"DataFrame numbers:\")\n",
    "print(df.columns)"
   ]
  },
  {
   "cell_type": "code",
   "execution_count": 10,
   "id": "a1d21a92-6079-4d40-a6a3-5f644b301f0e",
   "metadata": {},
   "outputs": [
    {
     "name": "stdout",
     "output_type": "stream",
     "text": [
      "Number of records found: 64\n"
     ]
    }
   ],
   "source": [
    "record_count = len(df)\n",
    "print(f\"Number of records found: {record_count}\")"
   ]
  },
  {
   "cell_type": "code",
   "execution_count": 11,
   "id": "43888ab5-eff9-4084-a6fb-89bbe44e5886",
   "metadata": {},
   "outputs": [],
   "source": [
    "df.sort_values(by=\"datestamp\", inplace=True)"
   ]
  },
  {
   "cell_type": "code",
   "execution_count": 12,
   "id": "2fe60242-b529-48e0-bf77-72c8573f9ea1",
   "metadata": {},
   "outputs": [],
   "source": [
    "# Write to XML\n",
    "root_elem = ET.Element(\"records\")\n",
    "\n",
    "for _, row in df.iterrows():\n",
    "    record_elem = ET.SubElement(root_elem, \"record\")\n",
    "    \n",
    "    title_elem = ET.SubElement(record_elem, \"title\")\n",
    "    title_elem.text = row[\"title\"]\n",
    "    \n",
    "    creators_elem = ET.SubElement(record_elem, \"creators\")\n",
    "    for creator in row[\"creators\"]:\n",
    "        creator_elem = ET.SubElement(creators_elem, \"creator\")\n",
    "        creator_elem.text = creator\n",
    "\n",
    "    identifier_elem = ET.SubElement(record_elem, \"identifier\")\n",
    "    identifier_elem.text = row[\"identifier\"]\n",
    "    \n",
    "    datestamp_elem = ET.SubElement(record_elem, \"datestamp\")\n",
    "    datestamp_elem.text = row[\"datestamp\"]"
   ]
  },
  {
   "cell_type": "code",
   "execution_count": 13,
   "id": "3c14d662-2845-48a5-8462-8eaa9b415962",
   "metadata": {},
   "outputs": [
    {
     "name": "stdout",
     "output_type": "stream",
     "text": [
      "XML file created as 'taskoutput.xml'\n"
     ]
    }
   ],
   "source": [
    "# Save file\n",
    "tree = ET.ElementTree(root_elem)\n",
    "tree.write(\"output.xml\", encoding=\"utf-8\", xml_declaration=True)\n",
    "print(\"XML file created as 'taskoutput.xml'\")"
   ]
  },
  {
   "cell_type": "code",
   "execution_count": 14,
   "id": "a47ef001-60ae-43ab-b07e-14186abbc5cc",
   "metadata": {},
   "outputs": [
    {
     "data": {
      "text/html": [
       "<div>\n",
       "<style scoped>\n",
       "    .dataframe tbody tr th:only-of-type {\n",
       "        vertical-align: middle;\n",
       "    }\n",
       "\n",
       "    .dataframe tbody tr th {\n",
       "        vertical-align: top;\n",
       "    }\n",
       "\n",
       "    .dataframe thead th {\n",
       "        text-align: right;\n",
       "    }\n",
       "</style>\n",
       "<table border=\"1\" class=\"dataframe\">\n",
       "  <thead>\n",
       "    <tr style=\"text-align: right;\">\n",
       "      <th></th>\n",
       "      <th>title</th>\n",
       "      <th>creators</th>\n",
       "      <th>identifier</th>\n",
       "      <th>datestamp</th>\n",
       "    </tr>\n",
       "  </thead>\n",
       "  <tbody>\n",
       "    <tr>\n",
       "      <th>0</th>\n",
       "      <td>Ansible Role GitLab</td>\n",
       "      <td>[Hüser, C., Huste, T., Ziegner, N.]</td>\n",
       "      <td>https://www.hzdr.de/publications/Publ-32130-1</td>\n",
       "      <td>2024-05-21</td>\n",
       "    </tr>\n",
       "    <tr>\n",
       "      <th>34</th>\n",
       "      <td>LLAMA: The Low Level Abstraction of Memory Access</td>\n",
       "      <td>[Matthes, A., Gruber, B. M., Widera, R.]</td>\n",
       "      <td>https://www.hzdr.de/publications/Publ-33710-2</td>\n",
       "      <td>2024-05-21</td>\n",
       "    </tr>\n",
       "    <tr>\n",
       "      <th>35</th>\n",
       "      <td>LLAMA: The Low Level Abstraction of Memory Access</td>\n",
       "      <td>[Matthes, A., Gruber, B. M., Widera, R.]</td>\n",
       "      <td>https://www.hzdr.de/publications/Publ-33710-1</td>\n",
       "      <td>2024-05-21</td>\n",
       "    </tr>\n",
       "    <tr>\n",
       "      <th>36</th>\n",
       "      <td>LLAMA: The Low Level Abstraction of Memory Access</td>\n",
       "      <td>[Matthes, A., Gruber, B. M., Widera, R.]</td>\n",
       "      <td>https://www.hzdr.de/publications/Publ-33710-3</td>\n",
       "      <td>2024-05-21</td>\n",
       "    </tr>\n",
       "    <tr>\n",
       "      <th>37</th>\n",
       "      <td>Data publication: Inverse-Dirichlet Weighting ...</td>\n",
       "      <td>[Maddu, S., Sturm, D., Müller, C. L., Sbalzari...</td>\n",
       "      <td>https://www.hzdr.de/publications/Publ-33337-1</td>\n",
       "      <td>2024-05-21</td>\n",
       "    </tr>\n",
       "    <tr>\n",
       "      <th>...</th>\n",
       "      <td>...</td>\n",
       "      <td>...</td>\n",
       "      <td>...</td>\n",
       "      <td>...</td>\n",
       "    </tr>\n",
       "    <tr>\n",
       "      <th>18</th>\n",
       "      <td>HIFIS Software website: software.hifis.net</td>\n",
       "      <td>[Erxleben, F., Hüser, C., Huste, T.]</td>\n",
       "      <td>https://www.hzdr.de/publications/Publ-30140-1</td>\n",
       "      <td>2024-05-21</td>\n",
       "    </tr>\n",
       "    <tr>\n",
       "      <th>17</th>\n",
       "      <td>ExploreASL/ExploreASL: First stable release</td>\n",
       "      <td>[Mutsaerts, H., Petr, J., Stritt, M., Vandemae...</td>\n",
       "      <td>https://www.hzdr.de/publications/Publ-31229-1</td>\n",
       "      <td>2024-05-21</td>\n",
       "    </tr>\n",
       "    <tr>\n",
       "      <th>23</th>\n",
       "      <td>Common methods of spectral data analysis for u...</td>\n",
       "      <td>[Seilmayer, M.]</td>\n",
       "      <td>https://www.hzdr.de/publications/Publ-29280-1</td>\n",
       "      <td>2024-05-21</td>\n",
       "    </tr>\n",
       "    <tr>\n",
       "      <th>61</th>\n",
       "      <td>Data publication: Data science education in un...</td>\n",
       "      <td>[Shah, K., Butler, J., Knaub, A. V., Zenginoğl...</td>\n",
       "      <td>https://www.hzdr.de/publications/Publ-39493-1</td>\n",
       "      <td>2024-08-26</td>\n",
       "    </tr>\n",
       "    <tr>\n",
       "      <th>62</th>\n",
       "      <td>alpaka-group/alpaka: alpaka 1.1.0: One One Zero</td>\n",
       "      <td>[Bocci, A., Ehrig, S., Gruber, B. M., Martin-H...</td>\n",
       "      <td>https://www.hzdr.de/publications/Publ-39566-1</td>\n",
       "      <td>2024-09-11</td>\n",
       "    </tr>\n",
       "  </tbody>\n",
       "</table>\n",
       "<p>64 rows × 4 columns</p>\n",
       "</div>"
      ],
      "text/plain": [
       "                                                title  \\\n",
       "0                                 Ansible Role GitLab   \n",
       "34  LLAMA: The Low Level Abstraction of Memory Access   \n",
       "35  LLAMA: The Low Level Abstraction of Memory Access   \n",
       "36  LLAMA: The Low Level Abstraction of Memory Access   \n",
       "37  Data publication: Inverse-Dirichlet Weighting ...   \n",
       "..                                                ...   \n",
       "18         HIFIS Software website: software.hifis.net   \n",
       "17        ExploreASL/ExploreASL: First stable release   \n",
       "23  Common methods of spectral data analysis for u...   \n",
       "61  Data publication: Data science education in un...   \n",
       "62    alpaka-group/alpaka: alpaka 1.1.0: One One Zero   \n",
       "\n",
       "                                             creators  \\\n",
       "0                 [Hüser, C., Huste, T., Ziegner, N.]   \n",
       "34           [Matthes, A., Gruber, B. M., Widera, R.]   \n",
       "35           [Matthes, A., Gruber, B. M., Widera, R.]   \n",
       "36           [Matthes, A., Gruber, B. M., Widera, R.]   \n",
       "37  [Maddu, S., Sturm, D., Müller, C. L., Sbalzari...   \n",
       "..                                                ...   \n",
       "18               [Erxleben, F., Hüser, C., Huste, T.]   \n",
       "17  [Mutsaerts, H., Petr, J., Stritt, M., Vandemae...   \n",
       "23                                    [Seilmayer, M.]   \n",
       "61  [Shah, K., Butler, J., Knaub, A. V., Zenginoğl...   \n",
       "62  [Bocci, A., Ehrig, S., Gruber, B. M., Martin-H...   \n",
       "\n",
       "                                       identifier   datestamp  \n",
       "0   https://www.hzdr.de/publications/Publ-32130-1  2024-05-21  \n",
       "34  https://www.hzdr.de/publications/Publ-33710-2  2024-05-21  \n",
       "35  https://www.hzdr.de/publications/Publ-33710-1  2024-05-21  \n",
       "36  https://www.hzdr.de/publications/Publ-33710-3  2024-05-21  \n",
       "37  https://www.hzdr.de/publications/Publ-33337-1  2024-05-21  \n",
       "..                                            ...         ...  \n",
       "18  https://www.hzdr.de/publications/Publ-30140-1  2024-05-21  \n",
       "17  https://www.hzdr.de/publications/Publ-31229-1  2024-05-21  \n",
       "23  https://www.hzdr.de/publications/Publ-29280-1  2024-05-21  \n",
       "61  https://www.hzdr.de/publications/Publ-39493-1  2024-08-26  \n",
       "62  https://www.hzdr.de/publications/Publ-39566-1  2024-09-11  \n",
       "\n",
       "[64 rows x 4 columns]"
      ]
     },
     "execution_count": 14,
     "metadata": {},
     "output_type": "execute_result"
    }
   ],
   "source": [
    "df"
   ]
  }
 ],
 "metadata": {
  "kernelspec": {
   "display_name": "Python 3 (ipykernel)",
   "language": "python",
   "name": "python3"
  },
  "language_info": {
   "codemirror_mode": {
    "name": "ipython",
    "version": 3
   },
   "file_extension": ".py",
   "mimetype": "text/x-python",
   "name": "python",
   "nbconvert_exporter": "python",
   "pygments_lexer": "ipython3",
   "version": "3.11.5"
  }
 },
 "nbformat": 4,
 "nbformat_minor": 5
}
